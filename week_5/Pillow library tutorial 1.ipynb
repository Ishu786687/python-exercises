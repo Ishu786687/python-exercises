{
 "cells": [
  {
   "cell_type": "code",
   "execution_count": 19,
   "id": "29e0c4c0",
   "metadata": {},
   "outputs": [],
   "source": [
    "from PIL import Image\n",
    "import PIL"
   ]
  },
  {
   "cell_type": "code",
   "execution_count": 20,
   "id": "4561383f",
   "metadata": {},
   "outputs": [],
   "source": [
    "#to show the image in different window\n",
    "\n",
    "img = Image.open(\"boy.jpeg\")\n",
    "img.show()"
   ]
  },
  {
   "cell_type": "code",
   "execution_count": 21,
   "id": "c9659c88",
   "metadata": {},
   "outputs": [
    {
     "name": "stdout",
     "output_type": "stream",
     "text": [
      "(2121, 1414)\n",
      "JPEG\n"
     ]
    }
   ],
   "source": [
    "#Displaying image size and format\n",
    "\n",
    "print(img.size)\n",
    "print(img.format)"
   ]
  },
  {
   "cell_type": "code",
   "execution_count": 22,
   "id": "c84dfefb",
   "metadata": {},
   "outputs": [
    {
     "name": "stdout",
     "output_type": "stream",
     "text": [
      "RGB\n"
     ]
    }
   ],
   "source": [
    "#getting colour mode of image\n",
    "\n",
    "print(img.mode)"
   ]
  },
  {
   "cell_type": "code",
   "execution_count": 23,
   "id": "d7438695",
   "metadata": {},
   "outputs": [],
   "source": [
    "#Rotating the image\n",
    "\n",
    "#creating a image object\n",
    "im1 = Image.open(r\"boy.jpeg\")\n",
    "\n",
    "#rotating the image 90 degree counter clockwise\n",
    "im1 = im1.rotate(90, PIL.Image.NEAREST, expand = 1)\n",
    "\n",
    "#to show the specified image\n",
    "im1.show()"
   ]
  },
  {
   "cell_type": "code",
   "execution_count": 24,
   "id": "ea492b8e",
   "metadata": {},
   "outputs": [],
   "source": [
    "# open the original image\n",
    "original_img = Image.open(r\"boy.jpeg\")\n",
    "\n",
    "# Flip the original image vertically\n",
    "vertical_img = original_img.transpose(method=Image.FLIP_TOP_BOTTOM)\n",
    "vertical_img.save(\"vertical.png\")\n",
    "\n",
    "vertical_img.show()\n",
    "\n",
    "# close all our files object\n",
    "original_img.close()\n",
    "vertical_img.close()\n"
   ]
  },
  {
   "cell_type": "code",
   "execution_count": 25,
   "id": "82102053",
   "metadata": {},
   "outputs": [],
   "source": [
    "# Opens a image in RGB mode\n",
    "im = Image.open(r\"boy.jpeg\")\n",
    "\n",
    "# Size of the image in pixels \n",
    "# (size of original image)\n",
    "# (This is not mandatory)\n",
    "width, height = im.size\n",
    "\n",
    "# Setting the points for cropped image\n",
    "left = 4\n",
    "top = height / 5\n",
    "right = 154\n",
    "bottom = 3 * height / 5\n",
    "\n",
    "# Cropped image of above dimension\n",
    "# (It will not change original image)\n",
    "im1 = im.crop((left, top, right, bottom))\n",
    "newsize = (600, 600)\n",
    "im1 = im1.resize(newsize)\n",
    "\n",
    "# Shows the image in image viewer\n",
    "im1.show()\n"
   ]
  },
  {
   "cell_type": "code",
   "execution_count": 26,
   "id": "dae5ab67",
   "metadata": {},
   "outputs": [
    {
     "name": "stdout",
     "output_type": "stream",
     "text": [
      "Original size of the image\n",
      "(2121, 1414)\n",
      "\n",
      "New size of the image\n",
      "(40, 40)\n"
     ]
    }
   ],
   "source": [
    "size = (40, 40)\n",
    "img = Image.open(r\"boy.jpeg\")\n",
    "\n",
    "print(\"Original size of the image\")\n",
    "print(img.size)\n",
    "\n",
    "# resizing the image\n",
    "r_img = img.resize(size, resample = Image.BILINEAR)\n",
    "\n",
    "# resized_test.png => Destination_path\n",
    "r_img.save(\"resized_test.jpg\")\n",
    "\n",
    "# Opening the new image\n",
    "img = Image.open(r\"resized_test.jpg\")\n",
    "\n",
    "print(\"\\nNew size of the image\")\n",
    "print(img.size)\n"
   ]
  },
  {
   "cell_type": "code",
   "execution_count": 27,
   "id": "ddd5535b",
   "metadata": {},
   "outputs": [],
   "source": [
    "# creating a object\n",
    "image = Image.open(r\"boy.jpeg\")\n",
    "image.load()\n",
    "\n",
    "# Splitting the image into individual\n",
    "# bands\n",
    "r, g, b, = image.split()\n",
    "\n",
    "# merge function used\n",
    "im1 = Image.merge('RGB', (g, b, r))\n",
    "im1.show()\n"
   ]
  }
 ],
 "metadata": {
  "kernelspec": {
   "display_name": "Python 3 (ipykernel)",
   "language": "python",
   "name": "python3"
  },
  "language_info": {
   "codemirror_mode": {
    "name": "ipython",
    "version": 3
   },
   "file_extension": ".py",
   "mimetype": "text/x-python",
   "name": "python",
   "nbconvert_exporter": "python",
   "pygments_lexer": "ipython3",
   "version": "3.11.5"
  }
 },
 "nbformat": 4,
 "nbformat_minor": 5
}
