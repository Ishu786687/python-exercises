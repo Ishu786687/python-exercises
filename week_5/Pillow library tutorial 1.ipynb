{
 "cells": [
  {
   "cell_type": "code",
   "execution_count": 7,
   "id": "29e0c4c0",
   "metadata": {},
   "outputs": [],
   "source": [
    "from PIL import Image\n",
    "import PIL"
   ]
  },
  {
   "cell_type": "code",
   "execution_count": 2,
   "id": "4561383f",
   "metadata": {},
   "outputs": [],
   "source": [
    "#to show the image in different window\n",
    "\n",
    "img = Image.open(\"boy.jpeg\")\n",
    "img.show()"
   ]
  },
  {
   "cell_type": "code",
   "execution_count": 3,
   "id": "c9659c88",
   "metadata": {},
   "outputs": [
    {
     "name": "stdout",
     "output_type": "stream",
     "text": [
      "(2121, 1414)\n",
      "JPEG\n"
     ]
    }
   ],
   "source": [
    "#Displaying image size and format\n",
    "\n",
    "print(img.size)\n",
    "print(img.format)"
   ]
  },
  {
   "cell_type": "code",
   "execution_count": 4,
   "id": "c84dfefb",
   "metadata": {},
   "outputs": [
    {
     "name": "stdout",
     "output_type": "stream",
     "text": [
      "RGB\n"
     ]
    }
   ],
   "source": [
    "#getting colour mode of image\n",
    "\n",
    "print(img.mode)"
   ]
  },
  {
   "cell_type": "code",
   "execution_count": 8,
   "id": "d7438695",
   "metadata": {},
   "outputs": [],
   "source": [
    "#Rotating the image\n",
    "\n",
    "#creating a image object\n",
    "im1 = Image.open(r\"boy.jpeg\")\n",
    "\n",
    "#rotating the image 90 degree counter clockwise\n",
    "im1 = im1.rotate(90, PIL.Image.NEAREST, expand = 1)\n",
    "\n",
    "#to show the specified image\n",
    "im1.show()"
   ]
  },
  {
   "cell_type": "code",
   "execution_count": null,
   "id": "ea492b8e",
   "metadata": {},
   "outputs": [],
   "source": []
  }
 ],
 "metadata": {
  "kernelspec": {
   "display_name": "Python 3 (ipykernel)",
   "language": "python",
   "name": "python3"
  },
  "language_info": {
   "codemirror_mode": {
    "name": "ipython",
    "version": 3
   },
   "file_extension": ".py",
   "mimetype": "text/x-python",
   "name": "python",
   "nbconvert_exporter": "python",
   "pygments_lexer": "ipython3",
   "version": "3.11.5"
  }
 },
 "nbformat": 4,
 "nbformat_minor": 5
}
